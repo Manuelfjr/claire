{
 "cells": [
  {
   "cell_type": "markdown",
   "id": "0cb1be97",
   "metadata": {},
   "source": [
    "## Imports"
   ]
  },
  {
   "cell_type": "code",
   "execution_count": null,
   "id": "993d261e",
   "metadata": {},
   "outputs": [],
   "source": [
    "# utils\n",
    "import os\n",
    "import sys\n",
    "from pathlib import Path\n",
    "\n",
    "from tqdm import tqdm\n",
    "\n",
    "PROJECT_DIR = Path.cwd().parent\n",
    "sys.path.append(str(PROJECT_DIR))\n",
    "\n",
    "# import dask.dataframe as dd\n",
    "# basics\n",
    "import numpy as np\n",
    "import pandas as pd\n",
    "\n",
    "# metrics\n",
    "from src.claire import CLAIRE\n",
    "from utils import config\n",
    "from utils.reader import read_file_yaml\n",
    "\n",
    "np.random.seed(0)"
   ]
  },
  {
   "cell_type": "code",
   "execution_count": null,
   "id": "e9b46c13",
   "metadata": {},
   "outputs": [],
   "source": [
    "path_root = PROJECT_DIR / \"data\"\n",
    "path_conf = PROJECT_DIR / \"conf\"\n",
    "file_path_parameters = path_conf / \"parameters.yml\"\n",
    "path_data = [path_root / i for i in config.file_names]\n",
    "\n",
    "parameters = read_file_yaml(file_path_parameters)\n",
    "\n",
    "ext_type = parameters[\"outputs\"][\"extension_type\"]\n",
    "ext_local_img = parameters[\"outputs\"][\"extension_local_img\"]\n",
    "ext_best_img = parameters[\"outputs\"][\"extension_best_img\"]"
   ]
  },
  {
   "cell_type": "code",
   "execution_count": null,
   "id": "5b4144d3",
   "metadata": {
    "tags": [
     "hide_input"
    ]
   },
   "outputs": [],
   "source": [
    "under_line = \"\\n{}\\n\"\n",
    "title_part_n2 = \"PROJECT_DIR: [ {} ]\".format(PROJECT_DIR)\n",
    "title_part_n3 = under_line.format(\"\".join([\"-\"] * len(title_part_n2)))\n",
    "title_part_n1 = under_line.format(\"\".join([\"-\"] * len(title_part_n2)))\n",
    "print(title_part_n1 + title_part_n2 + title_part_n3)"
   ]
  },
  {
   "cell_type": "markdown",
   "id": "2c076ad2",
   "metadata": {},
   "source": [
    "## Read"
   ]
  },
  {
   "cell_type": "code",
   "execution_count": null,
   "id": "25e6c446",
   "metadata": {
    "lines_to_next_cell": 2
   },
   "outputs": [],
   "source": [
    "data_all = {i: pd.read_csv(path_data[idx] / Path(i + ext_type)) for idx, i in enumerate(config.file_names)}\n",
    "# data_all = {i: dd.read_csv(path_data[idx] / Path(i + ext_type)) for idx, i in enumerate(config.file_names)}"
   ]
  },
  {
   "cell_type": "markdown",
   "id": "7ac03435",
   "metadata": {},
   "source": [
    "## Running for all clusterings dataset"
   ]
  },
  {
   "cell_type": "code",
   "execution_count": null,
   "id": "0f597c73",
   "metadata": {
    "lines_to_next_cell": 2
   },
   "outputs": [],
   "source": [
    "_X, _Y = {}, {}\n",
    "for i in config.file_names:\n",
    "    # _X[i] = data_all[i].drop(\"labels\", axis=1).compute().values\n",
    "    # _Y[i] = data_all[i][\"labels\"].compute().values\n",
    "    _X[i] = data_all[i].drop(\"labels\", axis=1).values\n",
    "    _Y[i] = data_all[i][\"labels\"].values"
   ]
  },
  {
   "cell_type": "code",
   "execution_count": null,
   "id": "da7a3d74",
   "metadata": {},
   "outputs": [],
   "source": [
    "# select if it is random include simulation\n",
    "if parameters[\"include_random_model\"]:\n",
    "    number_random_models = len(np.unique(list(config.models_name_compress.values())[0]))\n",
    "else:\n",
    "    number_random_models = 1\n",
    "path_result = Path(config.dir_result)"
   ]
  },
  {
   "cell_type": "code",
   "execution_count": null,
   "id": "68c4f9a0-c1ba-4ab6-b07b-cd237124eeda",
   "metadata": {},
   "outputs": [],
   "source": [
    "init_generate = parameters[\"experiments\"][\"rp_init\"]\n",
    "\n",
    "if parameters[\"experiments\"][\"rp_final\"] == \"max\":\n",
    "    stop_generate = number_random_models\n",
    "else:\n",
    "    stop_generate = parameters[\"experiments\"][\"rp_final\"]"
   ]
  },
  {
   "cell_type": "code",
   "execution_count": null,
   "id": "aeec7320-0884-4bb7-8b17-d6f021c48d80",
   "metadata": {
    "scrolled": true
   },
   "outputs": [],
   "source": [
    "data_random = {}\n",
    "for i in tqdm(config.file_names):\n",
    "    data_random[i] = pd.DataFrame()\n",
    "    if len(np.unique(_Y[i])) == 1:\n",
    "        n_clusters = np.random.randint(1, 10)\n",
    "    else:\n",
    "        n_clusters = len(np.unique(_Y[i]))\n",
    "    for k_random in tqdm(range(init_generate + 1, stop_generate + 1)):\n",
    "        np.random.seed(k_random)\n",
    "        data_random[i][f\"random_model_n{k_random}\"] = np.random.randint(0, n_clusters, _X[i].shape[0])"
   ]
  },
  {
   "cell_type": "code",
   "execution_count": null,
   "id": "4bc4d67d",
   "metadata": {
    "lines_to_next_cell": 2,
    "scrolled": true
   },
   "outputs": [],
   "source": [
    "del config.params[\"optics\"]\n",
    "len_k_random = range(\n",
    "    parameters[\"experiments\"][\"rp_stop_init\"],\n",
    "    parameters[\"experiments\"][\"rp_stop_final\"]\n",
    ")\n",
    "dir_contents_dict = {}\n",
    "for k_random in tqdm(\n",
    "    len_k_random\n",
    "):\n",
    "    which_k_random = \"n_random_model: [ {} / {}]\".format(k_random + 1, len(len_k_random))\n",
    "    print(title_part_n1 + which_k_random + title_part_n3)\n",
    "    if number_random_models != 1:\n",
    "        path_result_k_random = path_result / Path(f\"random_n{k_random+1}\")\n",
    "        if not os.path.exists(path_result_k_random):\n",
    "            os.makedirs(path_result_k_random)\n",
    "    dir_contents_dict[\"random_n{}\".format(k_random + 1)] = {}\n",
    "    for i in tqdm(config.file_names):\n",
    "        models_params = config.params | {\"optics\": [config._optics_params[i]]}\n",
    "\n",
    "        claire = CLAIRE(\n",
    "            models_name=config.models_name_dataset[i],\n",
    "            models=config.models,\n",
    "            params=models_params,\n",
    "            _X=_X,\n",
    "            _Y=_Y,\n",
    "            metrics=config.metrics,\n",
    "            dir_result=path_result_k_random,\n",
    "            path_root=PROJECT_DIR,\n",
    "        )\n",
    "\n",
    "        if len(np.unique(_Y[i])) == 1:\n",
    "            n_clusters = np.random.randint(1, 10)\n",
    "        else:\n",
    "            n_clusters = len(np.unique(_Y[i]))\n",
    "\n",
    "        which_k_dataset = \"dataset: [ {} ]\".format(i)\n",
    "\n",
    "        print(title_part_n1 + which_k_dataset + title_part_n3)\n",
    "\n",
    "        #  processing\n",
    "        combination_models = claire.transform()\n",
    "        models_fited = claire.fit_combination_models(combination_models, _X[i])\n",
    "        data_results = claire.generate_results(models_fited)\n",
    "        # add random columns\n",
    "        if k_random != -1:\n",
    "            data_results = pd.concat([data_results, data_random[i].iloc[:, 1:(k_random + 1 + 1)]], axis=1)\n",
    "        pij = claire.generate_pij_matrix(data_results, k_random + 1, n_clusters)\n",
    "\n",
    "        # set beta4 params\n",
    "        beta_params = parameters[\"beta_params\"] | {\"pij\": pij, \"n_respondents\": pij.shape[1], \"n_items\": pij.shape[0]}\n",
    "\n",
    "        # fit\n",
    "        beta4_model = claire.fit_beta4(**beta_params)\n",
    "\n",
    "        # metrics\n",
    "        data_metrics = claire.calculate_metrics(data_results, beta4_model, claire._X[i], claire._Y[i])\n",
    "\n",
    "        # contents\n",
    "        dir_contents = [\n",
    "            (\n",
    "                \"metrics\",\n",
    "                (\n",
    "                    \"metrics\" + ext_type,\n",
    "                    data_metrics.sort_values(\"abilities\", ascending=False),\n",
    "                ),\n",
    "                (None),\n",
    "            ),\n",
    "            (\n",
    "                \"pij\",\n",
    "                (\"pij_true\" + ext_type, pij),\n",
    "                (\"pij_pred\" + ext_type, pd.DataFrame(claire.b4.pij, columns=pij.columns)),\n",
    "            ),\n",
    "            (\n",
    "                \"params\",\n",
    "                (\n",
    "                    \"abilities\" + ext_type,\n",
    "                    pd.DataFrame(claire.b4.abilities, index=pij.columns, columns=[\"abilities\"]),\n",
    "                ),\n",
    "                (\n",
    "                    \"diff_disc\" + ext_type,\n",
    "                    pd.DataFrame(\n",
    "                        {\n",
    "                            \"difficulty\": claire.b4.difficulties,\n",
    "                            \"discrimination\": claire.b4.discriminations,\n",
    "                        }\n",
    "                    ),\n",
    "                ),\n",
    "            ),\n",
    "            (\"labels\", (\"labels\" + ext_type, data_results), (None)),\n",
    "        ]\n",
    "        dir_contents_dict[\"random_n{}\".format(k_random + 1)].update({i: dir_contents})\n",
    "        # save\n",
    "        claire.save_results(i, dir_contents)"
   ]
  },
  {
   "cell_type": "code",
   "execution_count": null,
   "id": "65daad28-6651-4375-a864-664a154cc9d8",
   "metadata": {},
   "outputs": [],
   "source": []
  }
 ],
 "metadata": {
  "jupytext": {
   "cell_metadata_filter": "-all",
   "encoding": "# coding: utf-8",
   "executable": "/usr/bin/env python",
   "main_language": "python",
   "notebook_metadata_filter": "-all"
  },
  "kernelspec": {
   "display_name": ".venv",
   "language": "python",
   "name": "python3"
  },
  "language_info": {
   "codemirror_mode": {
    "name": "ipython",
    "version": 3
   },
   "file_extension": ".py",
   "mimetype": "text/x-python",
   "name": "python",
   "nbconvert_exporter": "python",
   "pygments_lexer": "ipython3",
   "version": "3.10.12"
  }
 },
 "nbformat": 4,
 "nbformat_minor": 5
}
