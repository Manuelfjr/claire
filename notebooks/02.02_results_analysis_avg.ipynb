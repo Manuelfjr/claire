{
 "cells": [
  {
   "cell_type": "markdown",
   "id": "0cb1be97",
   "metadata": {},
   "source": [
    "## Imports"
   ]
  },
  {
   "cell_type": "code",
   "execution_count": null,
   "id": "993d261e",
   "metadata": {},
   "outputs": [],
   "source": [
    "# utils\n",
    "import os\n",
    "import sys\n",
    "from pathlib import Path\n",
    "\n",
    "PROJECT_DIR = Path.cwd().parent\n",
    "sys.path.append(str(PROJECT_DIR))\n",
    "\n",
    "import matplotlib.lines as mlines\n",
    "# viz\n",
    "import matplotlib.pyplot as plt\n",
    "# basics\n",
    "import numpy as np\n",
    "import pandas as pd\n",
    "from matplotlib.lines import Line2D\n",
    "from tqdm import tqdm\n",
    "\n",
    "# metrics\n",
    "from utils import config\n",
    "from utils.reader import read_file_yaml\n",
    "from utils.utils import get_last_modification_directory\n",
    "\n",
    "np.random.seed(0)"
   ]
  },
  {
   "cell_type": "markdown",
   "id": "154f0544",
   "metadata": {},
   "source": [
    "## Parameters"
   ]
  },
  {
   "cell_type": "code",
   "execution_count": null,
   "id": "e9b46c13",
   "metadata": {},
   "outputs": [],
   "source": [
    "path_conf = PROJECT_DIR / \"conf\"\n",
    "file_path_parameters = path_conf / \"parameters.yml\"\n",
    "\n",
    "params = read_file_yaml(file_path_parameters)\n",
    "\n",
    "path_root = PROJECT_DIR / params[\"results\"][\"filepath\"]\n",
    "path_outputs = PROJECT_DIR / \"outputs\"\n",
    "\n",
    "if not os.path.exists(path_outputs):\n",
    "    os.makedirs(path_outputs)\n",
    "\n",
    "file_path_simulation_plot = path_outputs / params[\"outputs\"][\"simulation_random_avg_response\"][\"filepath\"]\n",
    "\n",
    "file_path_plot_i_dataset = path_outputs / params[\"outputs\"][\"simulation_random_avg_response\"][\"data_filepath\"]\n",
    "n_random = np.sort([int(i.replace(\"random_n\", \"\")) for i in os.listdir(path_root) if \".placehold\" not in i])\n",
    "path_random = [\"random_n\" + str(i) for i in n_random]\n",
    "path_results = [path_root / i for i in path_random]\n",
    "\n",
    "path_results, path_random = get_last_modification_directory(path_results, path_random, params)\n",
    "\n",
    "ext_type = params[\"outputs\"][\"extension_type\"]\n",
    "ext_local_img = params[\"outputs\"][\"extension_local_img\"]\n",
    "ext_best_img = params[\"outputs\"][\"extension_best_img\"]"
   ]
  },
  {
   "cell_type": "code",
   "execution_count": null,
   "id": "5b4144d3",
   "metadata": {
    "tags": [
     "hide_input"
    ]
   },
   "outputs": [],
   "source": [
    "under_line = \"\\n{}\\n\"\n",
    "title_part_n2 = \"PROJECT_DIR: [ {} ]\".format(PROJECT_DIR)\n",
    "title_part_n3 = under_line.format(\"\".join([\"-\"] * len(title_part_n2)))\n",
    "title_part_n1 = under_line.format(\"\".join([\"-\"] * len(title_part_n2)))\n",
    "print(title_part_n1 + title_part_n2 + title_part_n3)"
   ]
  },
  {
   "cell_type": "markdown",
   "id": "2c076ad2",
   "metadata": {},
   "source": [
    "## Read"
   ]
  },
  {
   "cell_type": "code",
   "execution_count": null,
   "id": "95b6749e",
   "metadata": {},
   "outputs": [],
   "source": [
    "parameters = read_file_yaml(file_path_parameters)"
   ]
  },
  {
   "cell_type": "code",
   "execution_count": null,
   "id": "25e6c446",
   "metadata": {
    "lines_to_next_cell": 2
   },
   "outputs": [],
   "source": [
    "init = params[\"outputs\"][\"init_values\"]\n",
    "metrics = {}\n",
    "for name, url in zip(path_random, path_results):\n",
    "    metrics[name] = {}\n",
    "    for dataset in os.listdir(url):\n",
    "        metrics[name][dataset] = pd.read_csv(\n",
    "            url / Path(dataset) / \"pij\" / Path(\"pij_true\" + ext_type),\n",
    "            index_col=0\n",
    "        )\n",
    "        metrics[name][dataset] = (\n",
    "            metrics[name][dataset]\n",
    "            .mean(axis=0)\n",
    "            .sort_values(ascending=False)\n",
    "            .to_frame(name=\"average_response\")\n",
    "        )"
   ]
  },
  {
   "cell_type": "markdown",
   "id": "7ac03435",
   "metadata": {},
   "source": [
    "## Concat all results"
   ]
  },
  {
   "cell_type": "code",
   "execution_count": null,
   "id": "4d76e6ca",
   "metadata": {
    "scrolled": true
   },
   "outputs": [],
   "source": [
    "data = metrics[f\"random_n{init}\"][\"aniso\"].T.filter(regex=\"^(?!.*random_model)\").T[[\"average_response\"]].reset_index()\n",
    "\n",
    "data.rename(columns={\"average_response\": f\"n{init}_aniso\", \"index\": \"model\"}, inplace=True)\n",
    "\n",
    "for random_n, content_n in metrics.items():\n",
    "    for name, content_dataset in content_n.items():\n",
    "        if (random_n == f\"random_n{init}\") and (name == \"aniso\"):\n",
    "            continue\n",
    "        tmp = content_dataset.T.filter(regex=\"^(?!.*random_model)\").T[[\"average_response\"]].reset_index()\n",
    "\n",
    "        tmp.rename(\n",
    "            columns={\"average_response\": \"n{}_{}\".format(random_n.replace(\"random_n\", \"\"), name), \"index\": \"model\"},\n",
    "            inplace=True,\n",
    "        )\n",
    "\n",
    "        data = data.merge(tmp, on=\"model\", how=\"outer\")\n",
    "\n",
    "data.set_index(\"model\", inplace=True)"
   ]
  },
  {
   "cell_type": "code",
   "execution_count": null,
   "id": "409209aa",
   "metadata": {
    "scrolled": true
   },
   "outputs": [],
   "source": [
    "datasets = {}\n",
    "for i in config.file_names:\n",
    "    datasets[i] = data.filter(regex=r\"{}\".format(i))\n",
    "    datasets[i].columns = datasets[i].columns.str.replace(\"_\" + i, \"\")\n",
    "    datasets[i] = datasets[i][\n",
    "        [col.replace(\"random_\", \"\") for col in path_random if col.replace(\"random_\", \"\") in datasets[i].columns]\n",
    "    ]"
   ]
  },
  {
   "cell_type": "markdown",
   "id": "a1eb2a73",
   "metadata": {},
   "source": [
    "## Plots"
   ]
  },
  {
   "cell_type": "code",
   "execution_count": null,
   "id": "843e74a9",
   "metadata": {},
   "outputs": [],
   "source": [
    "models = list(config.models.keys()) + [\"average_model\", \"optimal_clustering\"]\n",
    "gray_scale = [str(i / len(models)) for i in range(1, len(models))]\n",
    "colors = plt.cm.coolwarm(np.linspace(0, 1, len(models)))\n",
    "markers = list(mlines.Line2D.markers.keys())\n",
    "\n",
    "_params = {\n",
    "    _model: {\"color\": colors[_idx], \"marker\": markers[_idx], \"linestyle\": \"--\"} for _idx, _model in enumerate(models)\n",
    "}\n",
    "handler_lines = [\n",
    "    Line2D([], [], color=param[\"color\"], linestyle=param[\"linestyle\"], marker=param[\"marker\"])\n",
    "    for param in _params.values()\n",
    "]"
   ]
  },
  {
   "cell_type": "code",
   "execution_count": null,
   "id": "5014cbc7",
   "metadata": {
    "scrolled": true
   },
   "outputs": [],
   "source": [
    "# by dataset\n",
    "figs_dataset = {}\n",
    "for name, content in tqdm(list(datasets.items())):\n",
    "    _fig, ax = plt.subplots(1, 1, figsize=(25, 8))\n",
    "    content = content.dropna()\n",
    "    for line_name, line_data in content.iterrows():\n",
    "        for idx, i in enumerate(models):\n",
    "            if i in line_name:\n",
    "                _line_index = []\n",
    "                for k in line_data.index.str.split(\"n\"):\n",
    "                    _line_index.append(\"$p_{(\" + k[1] + \")}$\")\n",
    "                linestyle = \"--\"\n",
    "                ax.plot(_line_index, line_data, **_params[i])\n",
    "                _line_index = []\n",
    "    ax.grid(True)\n",
    "    # ax.set_title(name, fontsize=22)\n",
    "    ax.set_ylabel(r\"$average\\_response$\", fontsize=22)\n",
    "    ax.set_xlabel(r\"$n\\_random\\_model$\")\n",
    "    ax.legend(handler_lines, models, loc=\"upper left\", bbox_to_anchor=(1.00, 1.0))\n",
    "    figs_dataset[name] = _fig\n",
    "    # plt.close()"
   ]
  },
  {
   "cell_type": "code",
   "execution_count": null,
   "id": "e7de024c",
   "metadata": {},
   "outputs": [],
   "source": [
    "# global plot\n",
    "fig, axes = plt.subplots(len(datasets.keys()), 1, figsize=(25, 8 * len(datasets)), dpi=300)\n",
    "\n",
    "if not isinstance(axes, np.ndarray):\n",
    "    axes = [axes]\n",
    "\n",
    "for ax, (name, content) in tqdm(list(zip(axes, datasets.items()))):\n",
    "    content = content.dropna()\n",
    "    for line_name, line_data in content.iterrows():\n",
    "        for idx, i in enumerate(models):\n",
    "            if i in line_name:\n",
    "                _line_index = []\n",
    "                for k in line_data.index.str.split(\"n\"):\n",
    "                    _line_index.append(\"$p_{(\" + k[1] + \")}$\")\n",
    "                linestyle = \"--\"\n",
    "                ax.plot(_line_index, line_data, **_params[i])\n",
    "                _line_index = []\n",
    "    ax.grid(True)\n",
    "    ax.set_title(name, fontsize=22)\n",
    "    ax.set_ylabel(r\"$average\\_response$\", fontsize=22)\n",
    "\n",
    "axes[-1].set_xlabel(r\"$p\\_random\\_model$\")\n",
    "handler_lines = [\n",
    "    Line2D([], [], color=param[\"color\"], linestyle=param[\"linestyle\"], marker=param[\"marker\"])\n",
    "    for param in _params.values()\n",
    "]\n",
    "axes[0].legend(handler_lines, models, loc=\"upper left\", bbox_to_anchor=(1.00, 1.0))\n",
    "# plt.close()"
   ]
  },
  {
   "cell_type": "markdown",
   "id": "0eb2db91",
   "metadata": {},
   "source": [
    "## Save"
   ]
  },
  {
   "cell_type": "code",
   "execution_count": null,
   "id": "739e2373",
   "metadata": {},
   "outputs": [],
   "source": [
    "fig.savefig(str(file_path_simulation_plot) + ext_best_img, **parameters[\"outputs\"][\"args\"])  # save eps format\n",
    "fig.savefig(str(file_path_simulation_plot) + ext_local_img, **parameters[\"outputs\"][\"args\"])  # save png format"
   ]
  },
  {
   "cell_type": "code",
   "execution_count": null,
   "id": "4c5791d7",
   "metadata": {},
   "outputs": [],
   "source": [
    "for name, content in figs_dataset.items():\n",
    "    content.savefig(str(file_path_plot_i_dataset).format(name + \"_avg\") + ext_best_img,\n",
    "                    **parameters[\"outputs\"][\"args\"])  # save eps format\n",
    "    content.savefig(str(file_path_plot_i_dataset).format(name + \"_avg\") + ext_local_img,\n",
    "                    **parameters[\"outputs\"][\"args\"])  # save png format"
   ]
  },
  {
   "cell_type": "code",
   "execution_count": null,
   "id": "6d662068-b595-47c3-9531-f071d98e0876",
   "metadata": {},
   "outputs": [],
   "source": []
  }
 ],
 "metadata": {
  "jupyter": {
   "source_hidden": true
  },
  "jupytext": {
   "cell_metadata_filter": "-all",
   "encoding": "# coding: utf-8",
   "executable": "/usr/bin/env python",
   "main_language": "python",
   "notebook_metadata_filter": "-all"
  },
  "kernelspec": {
   "display_name": "Python 3 (ipykernel)",
   "language": "python",
   "name": "python3"
  },
  "language_info": {
   "codemirror_mode": {
    "name": "ipython",
    "version": 3
   },
   "file_extension": ".py",
   "mimetype": "text/x-python",
   "name": "python",
   "nbconvert_exporter": "python",
   "pygments_lexer": "ipython3",
   "version": "3.10.12"
  }
 },
 "nbformat": 4,
 "nbformat_minor": 5
}
