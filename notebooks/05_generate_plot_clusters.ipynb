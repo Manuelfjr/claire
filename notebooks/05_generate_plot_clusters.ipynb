{
 "cells": [
  {
   "cell_type": "markdown",
   "id": "1e718e91",
   "metadata": {},
   "source": [
    "## Imports"
   ]
  },
  {
   "cell_type": "code",
   "execution_count": 85,
   "id": "32a6bfa3",
   "metadata": {},
   "outputs": [],
   "source": [
    "# utils\n",
    "import os\n",
    "import sys\n",
    "from pathlib import Path\n",
    "\n",
    "PROJECT_DIR = Path.cwd().parent\n",
    "sys.path.append(str(PROJECT_DIR))\n",
    "\n",
    "import string\n",
    "\n",
    "# viz\n",
    "import matplotlib.pyplot as plt\n",
    "# basics\n",
    "import numpy as np\n",
    "import pandas as pd\n",
    "import seaborn as sns\n",
    "from tqdm import tqdm\n",
    "\n",
    "# metrics\n",
    "from utils import config\n",
    "from utils.reader import read_file_yaml\n",
    "\n",
    "np.random.seed(0)\n",
    "\n",
    "alphabet = string.ascii_lowercase"
   ]
  },
  {
   "cell_type": "markdown",
   "id": "e9a1653c",
   "metadata": {},
   "source": [
    "## Parameters"
   ]
  },
  {
   "cell_type": "code",
   "execution_count": 86,
   "id": "d6a89282",
   "metadata": {},
   "outputs": [],
   "source": [
    "path_outputs = PROJECT_DIR / \"outputs\"\n",
    "path_data = PROJECT_DIR / \"data\"\n",
    "file_path_parameters = PROJECT_DIR / \"conf\" / \"parameters.yml\"\n",
    "\n",
    "params = read_file_yaml(file_path_parameters)\n",
    "\n",
    "ext_type = params[\"outputs\"][\"extension_type\"]\n",
    "ext_local_img = params[\"outputs\"][\"extension_local_img\"]\n",
    "ext_best_img = params[\"outputs\"][\"extension_best_img\"]\n",
    "\n",
    "file_path_data = {\n",
    "    i: (path_data / i / Path(i + ext_type))\n",
    "    if f\"{i}_pca{ext_type}\" not in os.listdir(path_data / i)\n",
    "    else (path_data / i / Path(i + \"_pca\" + ext_type))\n",
    "    for i in config.file_names\n",
    "}\n",
    "\n",
    "file_path_distribution = path_outputs / Path(\"dataset_distribution_labels\" + ext_best_img)\n",
    "file_path_distribution_best = path_outputs / Path(\"dataset_distribution_labels_row\" + ext_best_img)"
   ]
  },
  {
   "cell_type": "markdown",
   "id": "9be2f925",
   "metadata": {},
   "source": [
    "## Read datasets"
   ]
  },
  {
   "cell_type": "code",
   "execution_count": 87,
   "id": "1dd4e1d9",
   "metadata": {},
   "outputs": [],
   "source": [
    "data = {}\n",
    "for i_name, i_file_path in file_path_data.items():\n",
    "    data[i_name] = {\"content\": pd.read_csv(i_file_path), \"filepath\": i_file_path}"
   ]
  },
  {
   "cell_type": "markdown",
   "id": "627e80ac",
   "metadata": {},
   "source": [
    "## Plot"
   ]
  },
  {
   "cell_type": "code",
   "execution_count": 88,
   "id": "3cbcce89",
   "metadata": {},
   "outputs": [],
   "source": [
    "_params = {\n",
    "    \"x\": \"0\",\n",
    "    \"y\": \"1\",\n",
    "    \"palette\": sns.color_palette(\"dark\"),\n",
    "    \"s\": 50,\n",
    "    \"legend\": False,\n",
    "}"
   ]
  },
  {
   "cell_type": "code",
   "execution_count": 89,
   "id": "102ca16a",
   "metadata": {
    "scrolled": true
   },
   "outputs": [
    {
     "name": "stderr",
     "output_type": "stream",
     "text": [
      " 89%|████████▉ | 8/9 [00:00<00:00, 10.67it/s]/tmp/ipykernel_23981/2771008500.py:8: UserWarning: Ignoring `palette` because no `hue` variable has been assigned.\n",
      "  sns.scatterplot(**tmp_params)\n",
      "100%|██████████| 9/9 [00:00<00:00, 11.16it/s]\n"
     ]
    }
   ],
   "source": [
    "for i_name, i_data in tqdm(list(data.items())):\n",
    "    if \"no_structure\" == i_name:\n",
    "        tmp_params = _params | {\"data\": data[i_name][\"content\"]}\n",
    "    else:\n",
    "        tmp_params = _params | {\"data\": data[i_name][\"content\"], \"hue\": \"labels\"}\n",
    "    tmp_params[\"palette\"] = sns.color_palette(\"dark\", data[i_name][\"content\"][\"labels\"].nunique())\n",
    "    plt.figure(figsize=(12, 8), **params[\"outputs\"][\"args\"])\n",
    "    sns.scatterplot(**tmp_params)\n",
    "    txt = i_name.replace(\"_\", \" \").title()\n",
    "    plt.title(txt, fontsize=30)\n",
    "    plt.savefig(path_outputs / Path(i_name + \"_behavior\" + ext_best_img),\n",
    "                format=ext_best_img[1:],\n",
    "                **params[\"outputs\"][\"args\"])\n",
    "    plt.close()"
   ]
  },
  {
   "cell_type": "code",
   "execution_count": 90,
   "id": "e40bdc08",
   "metadata": {
    "scrolled": true
   },
   "outputs": [
    {
     "name": "stderr",
     "output_type": "stream",
     "text": [
      "100%|██████████| 9/9 [00:00<00:00, 65.80it/s]\n"
     ]
    }
   ],
   "source": [
    "n_cols = 2\n",
    "fig, axs = plt.subplots(int(np.ceil(len(data.items()) / n_cols)), n_cols, figsize=(10, 12), **params[\"outputs\"][\"args\"])\n",
    "\n",
    "if axs.shape == (2, ):\n",
    "    axs = np.matrix(axs)\n",
    "# Loop\n",
    "row = 0\n",
    "col = 0\n",
    "for letter, (key, iter_data) in tqdm(zip(alphabet, data.items()), total=len(data.items())):\n",
    "    if key == \"no_structure\":\n",
    "        iter_data[\"content\"].labels = 1\n",
    "    unique_labels = iter_data[\"content\"][\"labels\"].nunique()\n",
    "    sns.scatterplot(\n",
    "        x=\"0\",\n",
    "        y=\"1\",\n",
    "        data=iter_data[\"content\"],\n",
    "        hue=\"labels\",\n",
    "        ax=axs[row, col],\n",
    "        palette=sns.color_palette(\"dark\", iter_data[\"content\"][\"labels\"].nunique()),\n",
    "        legend=False,\n",
    "    )\n",
    "    axs[row, col].set_title(f\"({letter}) \" + key.replace(\"_\", \" \").title(), fontsize=20)\n",
    "    axs[row, col].set_xlabel(\"\")\n",
    "    axs[row, col].set_ylabel(\"\")\n",
    "    axs[row, col].set_xticks([])\n",
    "    axs[row, col].set_yticks([])\n",
    "    col += 1\n",
    "    if col == 2:\n",
    "        col = 0\n",
    "        row += 1\n",
    "plt.tight_layout()\n",
    "plt.close()"
   ]
  },
  {
   "cell_type": "code",
   "execution_count": 91,
   "id": "3fc5bcb7",
   "metadata": {},
   "outputs": [
    {
     "name": "stderr",
     "output_type": "stream",
     "text": [
      "100%|██████████| 9/9 [00:00<00:00, 65.35it/s]\n"
     ]
    }
   ],
   "source": [
    "n_cols = 2\n",
    "fig_row, axs = plt.subplots(n_cols, int(np.ceil(len(data.items()) / n_cols)), figsize=(18, 10), **params[\"outputs\"][\"args\"])\n",
    "\n",
    "if axs.shape == (2, ):\n",
    "    axs = np.matrix(axs)\n",
    "# Loop\n",
    "row = 0\n",
    "col = 0\n",
    "for letter, (key, iter_data) in tqdm(zip(alphabet, data.items()), total=len(data.items())):\n",
    "    if key == \"no_structure\":\n",
    "        iter_data[\"content\"].labels = 1\n",
    "    unique_labels = iter_data[\"content\"][\"labels\"].nunique()\n",
    "    sns.scatterplot(\n",
    "        x=\"0\",\n",
    "        y=\"1\",\n",
    "        data=iter_data[\"content\"],\n",
    "        hue=\"labels\",\n",
    "        ax=axs[col, row],\n",
    "        palette=sns.color_palette(\"dark\", unique_labels),\n",
    "        legend=False,\n",
    "    )\n",
    "    axs[col, row].set_title(f\"({letter}) \" + key.replace(\"_\", \" \").title(), fontsize=20)\n",
    "    axs[col, row].set_xlabel(\"\")\n",
    "    axs[col, row].set_ylabel(\"\")\n",
    "    axs[col, row].set_xticks([])\n",
    "    axs[col, row].set_yticks([])\n",
    "    col += 1\n",
    "    if col == 2:\n",
    "        col = 0\n",
    "        row += 1\n",
    "if len(data.items()) % 2 == 1:\n",
    "    axs[-1, -1].axis(\"off\")\n",
    "fig_row.tight_layout()\n",
    "plt.close()"
   ]
  },
  {
   "cell_type": "markdown",
   "id": "37b60598-2456-44f0-b430-1c32779441c7",
   "metadata": {},
   "source": [
    "## Save "
   ]
  },
  {
   "cell_type": "code",
   "execution_count": 92,
   "id": "aea7fe1a-942a-47f9-a2f4-ca9d91b354b3",
   "metadata": {},
   "outputs": [],
   "source": [
    "fig.savefig(\n",
    "    file_path_distribution,\n",
    "    format=ext_best_img[1:]\n",
    ")  # best\n",
    "fig.savefig(\n",
    "    str(file_path_distribution).replace(ext_best_img, ext_local_img),\n",
    "    format=ext_local_img[1:],\n",
    "    **params[\"outputs\"][\"args\"]\n",
    ")  # local"
   ]
  },
  {
   "cell_type": "code",
   "execution_count": 95,
   "id": "cbe68cfe",
   "metadata": {},
   "outputs": [
    {
     "data": {
      "text/plain": [
       "PosixPath('/home/manuel/projects/repos/aaai-claire-clustering/outputs/dataset_distribution_labels_row.eps')"
      ]
     },
     "execution_count": 95,
     "metadata": {},
     "output_type": "execute_result"
    }
   ],
   "source": [
    "file_path_distribution_best"
   ]
  },
  {
   "cell_type": "code",
   "execution_count": 96,
   "id": "6346e859-c746-48dc-a728-88a4ab0adcf3",
   "metadata": {},
   "outputs": [
    {
     "data": {
      "text/plain": [
       "'/home/manuel/projects/repos/aaai-claire-clustering/outputs/dataset_distribution_labels_row.png'"
      ]
     },
     "execution_count": 96,
     "metadata": {},
     "output_type": "execute_result"
    }
   ],
   "source": [
    "fig_row.savefig(\n",
    "    file_path_distribution_best,\n",
    "    format=ext_best_img[1:]\n",
    ")  # best\n",
    "fig_row.savefig(\n",
    "    str(file_path_distribution_best).replace(ext_best_img, ext_local_img),\n",
    "    format=ext_local_img[1:],\n",
    "    **params[\"outputs\"][\"args\"]\n",
    ")  # local"
   ]
  }
 ],
 "metadata": {
  "jupytext": {
   "cell_metadata_filter": "-all",
   "encoding": "# coding: utf-8",
   "executable": "/usr/bin/env python",
   "main_language": "python",
   "notebook_metadata_filter": "-all"
  },
  "kernelspec": {
   "display_name": "Python 3 (ipykernel)",
   "language": "python",
   "name": "python3"
  },
  "language_info": {
   "codemirror_mode": {
    "name": "ipython",
    "version": 3
   },
   "file_extension": ".py",
   "mimetype": "text/x-python",
   "name": "python",
   "nbconvert_exporter": "python",
   "pygments_lexer": "ipython3",
   "version": "3.10.12"
  }
 },
 "nbformat": 4,
 "nbformat_minor": 5
}
