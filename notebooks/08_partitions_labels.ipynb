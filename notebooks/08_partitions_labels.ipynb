{
 "cells": [
  {
   "cell_type": "markdown",
   "id": "0cb1be97",
   "metadata": {},
   "source": [
    "## Imports"
   ]
  },
  {
   "cell_type": "code",
   "execution_count": null,
   "id": "993d261e",
   "metadata": {},
   "outputs": [],
   "source": [
    "# utils\n",
    "import os\n",
    "import sys\n",
    "from pathlib import Path\n",
    "\n",
    "PROJECT_DIR = Path.cwd().parent\n",
    "sys.path.append(str(PROJECT_DIR))\n",
    "\n",
    "# viz\n",
    "import matplotlib.pyplot as plt\n",
    "# basics\n",
    "import numpy as np\n",
    "import pandas as pd\n",
    "from tqdm import tqdm\n",
    "\n",
    "# metrics\n",
    "from utils import config\n",
    "from utils.reader import read_file_yaml\n",
    "from utils.utils import get_last_modification_directory\n",
    "\n",
    "np.random.seed(0)"
   ]
  },
  {
   "cell_type": "markdown",
   "id": "154f0544",
   "metadata": {},
   "source": [
    "## Parameters"
   ]
  },
  {
   "cell_type": "code",
   "execution_count": null,
   "id": "e9b46c13",
   "metadata": {},
   "outputs": [],
   "source": [
    "path_conf = PROJECT_DIR / \"conf\"\n",
    "file_path_parameters = path_conf / \"parameters.yml\"\n",
    "path_data = PROJECT_DIR / \"data\"\n",
    "params = read_file_yaml(file_path_parameters)\n",
    "\n",
    "path_root = PROJECT_DIR / params[\"results\"][\"filepath\"]\n",
    "path_outputs = PROJECT_DIR / \"outputs\"\n",
    "\n",
    "if not os.path.exists(path_outputs):\n",
    "    os.makedirs(path_outputs)\n",
    "\n",
    "n_random = np.sort([int(i.replace(\"random_n\", \"\")) for i in os.listdir(path_root) if \".placehold\" not in i])\n",
    "path_random = [\"random_n\" + str(i) for i in n_random]\n",
    "path_results = [path_root / i for i in path_random]\n",
    "\n",
    "path_results, path_random = get_last_modification_directory(path_results, path_random, params)\n",
    "\n",
    "ext_type = params[\"outputs\"][\"extension_type\"]\n",
    "ext_local_img = params[\"outputs\"][\"extension_local_img\"]\n",
    "ext_best_img = params[\"outputs\"][\"extension_best_img\"]\n",
    "\n",
    "file_path_labels = {\n",
    "    i_random: {\n",
    "        i_name: i_content / i_name / \"labels\" / f\"labels{ext_type}\" for i_name in config.file_names\n",
    "    } for i_random, i_content in zip(path_random, path_results)\n",
    "}\n",
    "file_path_data = {\n",
    "    i_name: path_data / i_name / f\"{i_name}{ext_type}\"for i_name in config.file_names\n",
    "}"
   ]
  },
  {
   "cell_type": "code",
   "execution_count": null,
   "id": "4aeac84e-0eb9-46fa-bc08-2f2474ed7d88",
   "metadata": {},
   "outputs": [],
   "source": [
    "file_path_data = {\n",
    "    i_name: (\n",
    "        path_data / i_name / f\"{i_name}_pca{ext_type}\"\n",
    "    ) if f\"{i_name}_pca{ext_type}\" in os.listdir(path_data / i_name) else (\n",
    "        path_data / i_name / f\"{i_name}{ext_type}\"\n",
    "    ) for i_name in config.file_names\n",
    "}"
   ]
  },
  {
   "cell_type": "code",
   "execution_count": null,
   "id": "5b4144d3",
   "metadata": {
    "tags": [
     "hide_input"
    ]
   },
   "outputs": [],
   "source": [
    "under_line = \"\\n{}\\n\"\n",
    "title_part_n2 = \"PROJECT_DIR: [ {} ]\".format(PROJECT_DIR)\n",
    "title_part_n3 = under_line.format(\"\".join([\"-\"] * len(title_part_n2)))\n",
    "title_part_n1 = under_line.format(\"\".join([\"-\"] * len(title_part_n2)))\n",
    "print(title_part_n1 + title_part_n2 + title_part_n3)"
   ]
  },
  {
   "cell_type": "markdown",
   "id": "2c076ad2",
   "metadata": {},
   "source": [
    "## Read"
   ]
  },
  {
   "cell_type": "code",
   "execution_count": null,
   "id": "95b6749e",
   "metadata": {},
   "outputs": [],
   "source": [
    "parameters = read_file_yaml(file_path_parameters)"
   ]
  },
  {
   "cell_type": "code",
   "execution_count": null,
   "id": "44f920a0-0d73-4d65-a5bb-a4f38e73f44a",
   "metadata": {},
   "outputs": [],
   "source": [
    "data_labels = {\n",
    "    i_random: {\n",
    "        i_name: pd.read_csv(i_path, index_col=0) for i_name, i_path in i_content.items()\n",
    "    } for i_random, i_content in tqdm(list(file_path_labels.items()))\n",
    "}"
   ]
  },
  {
   "cell_type": "code",
   "execution_count": null,
   "id": "9ccf9311-c8c7-4512-8a96-01586bbe93fc",
   "metadata": {},
   "outputs": [],
   "source": [
    "data = {\n",
    "    i_name: pd.read_csv(i_path) for i_name, i_path in file_path_data.items()\n",
    "}"
   ]
  },
  {
   "cell_type": "code",
   "execution_count": null,
   "id": "25e6c446",
   "metadata": {
    "lines_to_next_cell": 2
   },
   "outputs": [],
   "source": [
    "init = params[\"outputs\"][\"init_values\"]\n",
    "metrics = {}\n",
    "for name, url in zip(path_random, path_results):\n",
    "    metrics[name] = {}\n",
    "    for dataset in os.listdir(url):\n",
    "        metrics[name][dataset] = pd.read_csv(url / Path(dataset) / \"metrics\" / Path(\"metrics\" + ext_type), index_col=0)"
   ]
  },
  {
   "cell_type": "markdown",
   "id": "5f8a170d-117a-4044-91d0-25c43fe74b2f",
   "metadata": {},
   "source": [
    "## Plot model output"
   ]
  },
  {
   "cell_type": "code",
   "execution_count": null,
   "id": "685fec2a-c122-40c0-9c40-b7c5eac04457",
   "metadata": {},
   "outputs": [],
   "source": [
    "figs = {}\n",
    "for i_random, i_content in tqdm(list(data_labels.items())[:1]):\n",
    "    figs[i_random] = {}\n",
    "    for j_name, j_content in i_content.items():\n",
    "        figs[i_random][j_name] = {}\n",
    "        for i_model in j_content.columns:\n",
    "            fig, axes = plt.subplots(1, 1, figsize=(10, 8))\n",
    "            axes.scatter(\n",
    "                x=data[j_name].iloc[:, 0],\n",
    "                y=data[j_name].iloc[:, 1],\n",
    "                c=data_labels[i_random][j_name][i_model].values\n",
    "            )\n",
    "            if \"spectral_clustering\" not in i_model:\n",
    "                axes.set_title(i_model, fontsize=18)\n",
    "            else:\n",
    "                axes.set_title(i_model, fontsize=12)\n",
    "            fig.tight_layout()\n",
    "            plt.close()\n",
    "            figs[i_random][j_name][i_model] = {\n",
    "                \"figure\": fig,\n",
    "                \"filepath\": path_outputs / f\"{i_random}_{j_name}_{i_model}{ext_local_img}\"\n",
    "            }"
   ]
  },
  {
   "cell_type": "markdown",
   "id": "d3265de9-087e-4c75-902e-5d879a8eae26",
   "metadata": {},
   "source": [
    "## Save"
   ]
  },
  {
   "cell_type": "code",
   "execution_count": null,
   "id": "3cd69d2f-12e6-4c3a-9334-4d200e9af1df",
   "metadata": {},
   "outputs": [],
   "source": [
    "for content in figs.values():\n",
    "    for i_name, i_content in tqdm(list(content.items())):\n",
    "        for j_model, j_content in list(i_content.items()):\n",
    "            j_content[\"figure\"].savefig(\n",
    "                j_content[\"filepath\"],\n",
    "                format=ext_local_img[1:],\n",
    "                **parameters[\"outputs\"][\"args\"]\n",
    "            )"
   ]
  },
  {
   "cell_type": "code",
   "execution_count": null,
   "id": "744ad94b-3b0f-4eff-929f-175ff05eaf4b",
   "metadata": {},
   "outputs": [],
   "source": []
  }
 ],
 "metadata": {
  "jupyter": {
   "source_hidden": true
  },
  "jupytext": {
   "cell_metadata_filter": "-all",
   "encoding": "# coding: utf-8",
   "executable": "/usr/bin/env python",
   "main_language": "python",
   "notebook_metadata_filter": "-all"
  },
  "kernelspec": {
   "display_name": "aaai-claire-clustering-6LtfsN8j-py3.10",
   "language": "python",
   "name": "python3"
  },
  "language_info": {
   "codemirror_mode": {
    "name": "ipython",
    "version": 3
   },
   "file_extension": ".py",
   "mimetype": "text/x-python",
   "name": "python",
   "nbconvert_exporter": "python",
   "pygments_lexer": "ipython3",
   "version": "3.10.12"
  }
 },
 "nbformat": 4,
 "nbformat_minor": 5
}
